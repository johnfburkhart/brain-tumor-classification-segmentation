{
 "cells": [
  {
   "cell_type": "code",
   "execution_count": 5,
   "id": "5ddbe488",
   "metadata": {},
   "outputs": [],
   "source": [
    "import os\n",
    "import shutil\n",
    "from sklearn.model_selection import train_test_split\n",
    "\n",
    "input_directory = './processed_data/'\n",
    "output_train_directory = input_directory + \"train/\"\n",
    "output_test_directory = input_directory + \"test/\"\n",
    "\n",
    "def splitDatasetOnTrainTest(input_directory, output_train_directory, output_test_directory, test_size=0.2, random_seed=42):\n",
    "    # Create output directories if they don't exist\n",
    "    os.makedirs(output_train_directory, exist_ok=True)\n",
    "    os.makedirs(output_test_directory, exist_ok=True)\n",
    "\n",
    "    # Iterate through subdirectories (each representing a class)\n",
    "    for class_name in os.listdir(input_directory):\n",
    "        class_directory = os.path.join(input_directory, class_name)\n",
    "\n",
    "        # Check if it's a directory\n",
    "        if os.path.isdir(class_directory):\n",
    "            # print(f\"Processing class: {class_name}\")\n",
    "\n",
    "            # List all image files in the class directory\n",
    "            image_files = [file for file in os.listdir(class_directory)]\n",
    "\n",
    "            # Check if there are at least two samples for the class\n",
    "            if len(image_files) < 2:\n",
    "                print(f\"   Warning: Insufficient samples for class {class_name}. Skipping.\")\n",
    "                continue\n",
    "\n",
    "            # Split the images into train and test sets\n",
    "            train_images, test_images = train_test_split(image_files, test_size=test_size, random_state=random_seed)\n",
    "\n",
    "            # Copy images to the respective output directories\n",
    "            for image in train_images:\n",
    "                source_path = os.path.join(class_directory, image)\n",
    "                target_path = os.path.join(output_train_directory, class_name, image)\n",
    "                os.makedirs(os.path.dirname(target_path), exist_ok=True)\n",
    "                shutil.move(source_path, target_path)\n",
    "\n",
    "            for image in test_images:\n",
    "                source_path = os.path.join(class_directory, image)\n",
    "                target_path = os.path.join(output_test_directory, class_name, image)\n",
    "                os.makedirs(os.path.dirname(target_path), exist_ok=True)\n",
    "                shutil.move(source_path, target_path)\n",
    "\n",
    "            print(f\"   {len(train_images)} images for training, {len(test_images)} images for testing\")\n",
    "\n",
    "   "
   ]
  },
  {
   "cell_type": "code",
   "execution_count": 6,
   "id": "7b94ca88",
   "metadata": {},
   "outputs": [
    {
     "name": "stdout",
     "output_type": "stream",
     "text": [
      "   1 images for training, 1 images for testing\n",
      "   77 images for training, 20 images for testing\n",
      "   2 images for training, 1 images for testing\n",
      "   124 images for training, 31 images for testing\n"
     ]
    }
   ],
   "source": [
    "splitDatasetOnTrainTest(input_directory, output_train_directory, output_test_directory)"
   ]
  },
  {
   "cell_type": "code",
   "execution_count": null,
   "id": "0d57b45d",
   "metadata": {},
   "outputs": [],
   "source": []
  }
 ],
 "metadata": {
  "kernelspec": {
   "display_name": "Python 3 (ipykernel)",
   "language": "python",
   "name": "python3"
  },
  "language_info": {
   "codemirror_mode": {
    "name": "ipython",
    "version": 3
   },
   "file_extension": ".py",
   "mimetype": "text/x-python",
   "name": "python",
   "nbconvert_exporter": "python",
   "pygments_lexer": "ipython3",
   "version": "3.10.12"
  }
 },
 "nbformat": 4,
 "nbformat_minor": 5
}
